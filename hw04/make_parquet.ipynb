{
 "cells": [
  {
   "cell_type": "code",
   "execution_count": 15,
   "metadata": {},
   "outputs": [],
   "source": [
    "# !pip install pyarrow fastparquet\n",
    "import pandas as pd\n",
    "import os\n",
    "import time\n",
    "\n",
    "def getsize(strName):\n",
    "    file_size = os.path.getsize(strName)\n",
    "    return(file_size / (1024 * 1024))"
   ]
  },
  {
   "cell_type": "code",
   "execution_count": 14,
   "metadata": {},
   "outputs": [
    {
     "name": "stdout",
     "output_type": "stream",
     "text": [
      "Get data\n",
      "Размер zip файла: 171.15 МБ\n",
      "Размер parquet файла: 99.95 МБ\n",
      "CPU times: total: 19.3 s\n",
      "Wall time: 18.9 s\n"
     ]
    }
   ],
   "source": [
    "%%time\n",
    "\n",
    "strFileName='data/US Flights data 2008.zip'\n",
    "strFileTarget=strFileName.replace('zip','parquet')\n",
    "\n",
    "start_time=time.\n",
    "df = pd.read_csv(strFileName, compression='zip')\n",
    "print('Get data')\n",
    "df.to_parquet(strFileTarget, compression='zstd')\n",
    "\n",
    "print(f\"Размер zip файла: {getsize(strFileName):.2f} МБ\")\n",
    "print(f\"Размер parquet файла: {getsize(strFileTarget):.2f} МБ\")"
   ]
  },
  {
   "cell_type": "code",
   "execution_count": 16,
   "metadata": {},
   "outputs": [
    {
     "name": "stdout",
     "output_type": "stream",
     "text": [
      "Время считывания CSV: 11.20 секунд\n",
      "Время считывания Parquet: 1.55 секунд\n"
     ]
    }
   ],
   "source": [
    "# Считать файл CSV\n",
    "start_time = time.time()\n",
    "df_csv = pd.read_csv(strFileName)\n",
    "end_time = time.time()\n",
    "csv_read_time = end_time - start_time\n",
    "\n",
    "# Считать файл Parquet\n",
    "start_time = time.time()\n",
    "df_parquet = pd.read_parquet(strFileTarget)\n",
    "end_time = time.time()\n",
    "parquet_read_time = end_time - start_time\n",
    "\n",
    "# Вывести время считывания\n",
    "print(f\"Время считывания CSV: {csv_read_time:.2f} секунд\")\n",
    "print(f\"Время считывания Parquet: {parquet_read_time:.2f} секунд\")"
   ]
  },
  {
   "cell_type": "code",
   "execution_count": 17,
   "metadata": {},
   "outputs": [
    {
     "name": "stdout",
     "output_type": "stream",
     "text": [
      "<class 'pandas.core.frame.DataFrame'>\n",
      "RangeIndex: 7009728 entries, 0 to 7009727\n",
      "Data columns (total 29 columns):\n",
      " #   Column             Dtype  \n",
      "---  ------             -----  \n",
      " 0   Year               int64  \n",
      " 1   Month              int64  \n",
      " 2   DayofMonth         int64  \n",
      " 3   DayOfWeek          int64  \n",
      " 4   DepTime            float64\n",
      " 5   CRSDepTime         int64  \n",
      " 6   ArrTime            float64\n",
      " 7   CRSArrTime         int64  \n",
      " 8   UniqueCarrier      object \n",
      " 9   FlightNum          int64  \n",
      " 10  TailNum            object \n",
      " 11  ActualElapsedTime  float64\n",
      " 12  CRSElapsedTime     float64\n",
      " 13  AirTime            float64\n",
      " 14  ArrDelay           float64\n",
      " 15  DepDelay           float64\n",
      " 16  Origin             object \n",
      " 17  Dest               object \n",
      " 18  Distance           int64  \n",
      " 19  TaxiIn             float64\n",
      " 20  TaxiOut            float64\n",
      " 21  Cancelled          int64  \n",
      " 22  CancellationCode   object \n",
      " 23  Diverted           int64  \n",
      " 24  CarrierDelay       float64\n",
      " 25  WeatherDelay       float64\n",
      " 26  NASDelay           float64\n",
      " 27  SecurityDelay      float64\n",
      " 28  LateAircraftDelay  float64\n",
      "dtypes: float64(14), int64(10), object(5)\n",
      "memory usage: 1.5+ GB\n"
     ]
    }
   ],
   "source": [
    "df_parquet.info()"
   ]
  },
  {
   "cell_type": "code",
   "execution_count": 23,
   "metadata": {},
   "outputs": [
    {
     "data": {
      "text/plain": [
       "10.0     513473\n",
       "11.0     506335\n",
       "12.0     489648\n",
       "9.0      469637\n",
       "13.0     456544\n",
       "          ...  \n",
       "345.0         1\n",
       "295.0         1\n",
       "325.0         1\n",
       "422.0         1\n",
       "317.0         1\n",
       "Name: TaxiOut, Length: 342, dtype: int64"
      ]
     },
     "execution_count": 23,
     "metadata": {},
     "output_type": "execute_result"
    }
   ],
   "source": [
    "df_parquet['DayofMonth'].value_counts()"
   ]
  },
  {
   "cell_type": "code",
   "execution_count": 24,
   "metadata": {},
   "outputs": [],
   "source": [
    "# df_parquet = df_parquet.drop('DayOfWeek', axis=1)\n",
    "# df_parquet = df_parquet.drop('TaxiIn', axis=1)\n",
    "# df_parquet = df_parquet.drop('TaxiOut', axis=1)"
   ]
  },
  {
   "cell_type": "code",
   "execution_count": 25,
   "metadata": {},
   "outputs": [],
   "source": [
    "df_parquet.to_parquet(strFileTarget.replace('.parquet','_short.parquet'), compression='zstd')"
   ]
  }
 ],
 "metadata": {
  "kernelspec": {
   "display_name": "Python 3",
   "language": "python",
   "name": "python3"
  },
  "language_info": {
   "codemirror_mode": {
    "name": "ipython",
    "version": 3
   },
   "file_extension": ".py",
   "mimetype": "text/x-python",
   "name": "python",
   "nbconvert_exporter": "python",
   "pygments_lexer": "ipython3",
   "version": "3.11.1"
  }
 },
 "nbformat": 4,
 "nbformat_minor": 2
}
